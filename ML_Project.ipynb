{
  "nbformat": 4,
  "nbformat_minor": 0,
  "metadata": {
    "colab": {
      "provenance": [],
      "authorship_tag": "ABX9TyOhh/DzyKueO+mopwAt3EkV",
      "include_colab_link": true
    },
    "kernelspec": {
      "name": "python3",
      "display_name": "Python 3"
    },
    "language_info": {
      "name": "python"
    }
  },
  "cells": [
    {
      "cell_type": "markdown",
      "metadata": {
        "id": "view-in-github",
        "colab_type": "text"
      },
      "source": [
        "<a href=\"https://colab.research.google.com/github/fsiddiqi03/Finacial-Distress-Predictor/blob/main/ML_Project.ipynb\" target=\"_parent\"><img src=\"https://colab.research.google.com/assets/colab-badge.svg\" alt=\"Open In Colab\"/></a>"
      ]
    },
    {
      "cell_type": "code",
      "execution_count": null,
      "metadata": {
        "id": "w8-FVtFqv8zr",
        "colab": {
          "base_uri": "https://localhost:8080/",
          "height": 73
        },
        "outputId": "d849015a-6e44-4e4c-d0c7-8dc7de85aea6"
      },
      "outputs": [
        {
          "output_type": "display_data",
          "data": {
            "text/plain": [
              "<IPython.core.display.HTML object>"
            ],
            "text/html": [
              "\n",
              "     <input type=\"file\" id=\"files-3bf7b131-2db0-4a94-a1cb-5c6aa50c29a5\" name=\"files[]\" multiple disabled\n",
              "        style=\"border:none\" />\n",
              "     <output id=\"result-3bf7b131-2db0-4a94-a1cb-5c6aa50c29a5\">\n",
              "      Upload widget is only available when the cell has been executed in the\n",
              "      current browser session. Please rerun this cell to enable.\n",
              "      </output>\n",
              "      <script>// Copyright 2017 Google LLC\n",
              "//\n",
              "// Licensed under the Apache License, Version 2.0 (the \"License\");\n",
              "// you may not use this file except in compliance with the License.\n",
              "// You may obtain a copy of the License at\n",
              "//\n",
              "//      http://www.apache.org/licenses/LICENSE-2.0\n",
              "//\n",
              "// Unless required by applicable law or agreed to in writing, software\n",
              "// distributed under the License is distributed on an \"AS IS\" BASIS,\n",
              "// WITHOUT WARRANTIES OR CONDITIONS OF ANY KIND, either express or implied.\n",
              "// See the License for the specific language governing permissions and\n",
              "// limitations under the License.\n",
              "\n",
              "/**\n",
              " * @fileoverview Helpers for google.colab Python module.\n",
              " */\n",
              "(function(scope) {\n",
              "function span(text, styleAttributes = {}) {\n",
              "  const element = document.createElement('span');\n",
              "  element.textContent = text;\n",
              "  for (const key of Object.keys(styleAttributes)) {\n",
              "    element.style[key] = styleAttributes[key];\n",
              "  }\n",
              "  return element;\n",
              "}\n",
              "\n",
              "// Max number of bytes which will be uploaded at a time.\n",
              "const MAX_PAYLOAD_SIZE = 100 * 1024;\n",
              "\n",
              "function _uploadFiles(inputId, outputId) {\n",
              "  const steps = uploadFilesStep(inputId, outputId);\n",
              "  const outputElement = document.getElementById(outputId);\n",
              "  // Cache steps on the outputElement to make it available for the next call\n",
              "  // to uploadFilesContinue from Python.\n",
              "  outputElement.steps = steps;\n",
              "\n",
              "  return _uploadFilesContinue(outputId);\n",
              "}\n",
              "\n",
              "// This is roughly an async generator (not supported in the browser yet),\n",
              "// where there are multiple asynchronous steps and the Python side is going\n",
              "// to poll for completion of each step.\n",
              "// This uses a Promise to block the python side on completion of each step,\n",
              "// then passes the result of the previous step as the input to the next step.\n",
              "function _uploadFilesContinue(outputId) {\n",
              "  const outputElement = document.getElementById(outputId);\n",
              "  const steps = outputElement.steps;\n",
              "\n",
              "  const next = steps.next(outputElement.lastPromiseValue);\n",
              "  return Promise.resolve(next.value.promise).then((value) => {\n",
              "    // Cache the last promise value to make it available to the next\n",
              "    // step of the generator.\n",
              "    outputElement.lastPromiseValue = value;\n",
              "    return next.value.response;\n",
              "  });\n",
              "}\n",
              "\n",
              "/**\n",
              " * Generator function which is called between each async step of the upload\n",
              " * process.\n",
              " * @param {string} inputId Element ID of the input file picker element.\n",
              " * @param {string} outputId Element ID of the output display.\n",
              " * @return {!Iterable<!Object>} Iterable of next steps.\n",
              " */\n",
              "function* uploadFilesStep(inputId, outputId) {\n",
              "  const inputElement = document.getElementById(inputId);\n",
              "  inputElement.disabled = false;\n",
              "\n",
              "  const outputElement = document.getElementById(outputId);\n",
              "  outputElement.innerHTML = '';\n",
              "\n",
              "  const pickedPromise = new Promise((resolve) => {\n",
              "    inputElement.addEventListener('change', (e) => {\n",
              "      resolve(e.target.files);\n",
              "    });\n",
              "  });\n",
              "\n",
              "  const cancel = document.createElement('button');\n",
              "  inputElement.parentElement.appendChild(cancel);\n",
              "  cancel.textContent = 'Cancel upload';\n",
              "  const cancelPromise = new Promise((resolve) => {\n",
              "    cancel.onclick = () => {\n",
              "      resolve(null);\n",
              "    };\n",
              "  });\n",
              "\n",
              "  // Wait for the user to pick the files.\n",
              "  const files = yield {\n",
              "    promise: Promise.race([pickedPromise, cancelPromise]),\n",
              "    response: {\n",
              "      action: 'starting',\n",
              "    }\n",
              "  };\n",
              "\n",
              "  cancel.remove();\n",
              "\n",
              "  // Disable the input element since further picks are not allowed.\n",
              "  inputElement.disabled = true;\n",
              "\n",
              "  if (!files) {\n",
              "    return {\n",
              "      response: {\n",
              "        action: 'complete',\n",
              "      }\n",
              "    };\n",
              "  }\n",
              "\n",
              "  for (const file of files) {\n",
              "    const li = document.createElement('li');\n",
              "    li.append(span(file.name, {fontWeight: 'bold'}));\n",
              "    li.append(span(\n",
              "        `(${file.type || 'n/a'}) - ${file.size} bytes, ` +\n",
              "        `last modified: ${\n",
              "            file.lastModifiedDate ? file.lastModifiedDate.toLocaleDateString() :\n",
              "                                    'n/a'} - `));\n",
              "    const percent = span('0% done');\n",
              "    li.appendChild(percent);\n",
              "\n",
              "    outputElement.appendChild(li);\n",
              "\n",
              "    const fileDataPromise = new Promise((resolve) => {\n",
              "      const reader = new FileReader();\n",
              "      reader.onload = (e) => {\n",
              "        resolve(e.target.result);\n",
              "      };\n",
              "      reader.readAsArrayBuffer(file);\n",
              "    });\n",
              "    // Wait for the data to be ready.\n",
              "    let fileData = yield {\n",
              "      promise: fileDataPromise,\n",
              "      response: {\n",
              "        action: 'continue',\n",
              "      }\n",
              "    };\n",
              "\n",
              "    // Use a chunked sending to avoid message size limits. See b/62115660.\n",
              "    let position = 0;\n",
              "    do {\n",
              "      const length = Math.min(fileData.byteLength - position, MAX_PAYLOAD_SIZE);\n",
              "      const chunk = new Uint8Array(fileData, position, length);\n",
              "      position += length;\n",
              "\n",
              "      const base64 = btoa(String.fromCharCode.apply(null, chunk));\n",
              "      yield {\n",
              "        response: {\n",
              "          action: 'append',\n",
              "          file: file.name,\n",
              "          data: base64,\n",
              "        },\n",
              "      };\n",
              "\n",
              "      let percentDone = fileData.byteLength === 0 ?\n",
              "          100 :\n",
              "          Math.round((position / fileData.byteLength) * 100);\n",
              "      percent.textContent = `${percentDone}% done`;\n",
              "\n",
              "    } while (position < fileData.byteLength);\n",
              "  }\n",
              "\n",
              "  // All done.\n",
              "  yield {\n",
              "    response: {\n",
              "      action: 'complete',\n",
              "    }\n",
              "  };\n",
              "}\n",
              "\n",
              "scope.google = scope.google || {};\n",
              "scope.google.colab = scope.google.colab || {};\n",
              "scope.google.colab._files = {\n",
              "  _uploadFiles,\n",
              "  _uploadFilesContinue,\n",
              "};\n",
              "})(self);\n",
              "</script> "
            ]
          },
          "metadata": {}
        },
        {
          "output_type": "stream",
          "name": "stdout",
          "text": [
            "Saving cs-training.csv to cs-training.csv\n"
          ]
        }
      ],
      "source": [
        "import numpy as np\n",
        "import pandas as pd\n",
        "\n",
        "from sklearn.model_selection import train_test_split\n",
        "\n",
        "from google.colab import files\n",
        "uploaded = files.upload()\n",
        "\n"
      ]
    },
    {
      "cell_type": "code",
      "source": [
        "# load train data\n",
        "train_df = pd.read_csv('cs-training.csv')\n",
        "\n",
        "\n",
        "\n",
        "# Display the first few rows of the training data\n",
        "print(\"Training Data:\")\n",
        "print(train_df.head())\n",
        "\n",
        "\n",
        "\n",
        "# Check for missing values in the training data\n",
        "print(\"\\nMissing Values in Training Data:\")\n",
        "print(train_df.isnull().sum())\n",
        "\n",
        "\n"
      ],
      "metadata": {
        "id": "HupPHZvQKZyr",
        "colab": {
          "base_uri": "https://localhost:8080/"
        },
        "outputId": "c5b54e1c-38d0-4d31-9f62-f055697086d4"
      },
      "execution_count": null,
      "outputs": [
        {
          "output_type": "stream",
          "name": "stdout",
          "text": [
            "Training Data:\n",
            "   Unnamed: 0  SeriousDlqin2yrs  RevolvingUtilizationOfUnsecuredLines  age  \\\n",
            "0           1                 1                              0.766127   45   \n",
            "1           2                 0                              0.957151   40   \n",
            "2           3                 0                              0.658180   38   \n",
            "3           4                 0                              0.233810   30   \n",
            "4           5                 0                              0.907239   49   \n",
            "\n",
            "   NumberOfTime30-59DaysPastDueNotWorse  DebtRatio  MonthlyIncome  \\\n",
            "0                                     2   0.802982         9120.0   \n",
            "1                                     0   0.121876         2600.0   \n",
            "2                                     1   0.085113         3042.0   \n",
            "3                                     0   0.036050         3300.0   \n",
            "4                                     1   0.024926        63588.0   \n",
            "\n",
            "   NumberOfOpenCreditLinesAndLoans  NumberOfTimes90DaysLate  \\\n",
            "0                               13                        0   \n",
            "1                                4                        0   \n",
            "2                                2                        1   \n",
            "3                                5                        0   \n",
            "4                                7                        0   \n",
            "\n",
            "   NumberRealEstateLoansOrLines  NumberOfTime60-89DaysPastDueNotWorse  \\\n",
            "0                             6                                     0   \n",
            "1                             0                                     0   \n",
            "2                             0                                     0   \n",
            "3                             0                                     0   \n",
            "4                             1                                     0   \n",
            "\n",
            "   NumberOfDependents  \n",
            "0                 2.0  \n",
            "1                 1.0  \n",
            "2                 0.0  \n",
            "3                 0.0  \n",
            "4                 0.0  \n",
            "\n",
            "Missing Values in Training Data:\n",
            "Unnamed: 0                                  0\n",
            "SeriousDlqin2yrs                            0\n",
            "RevolvingUtilizationOfUnsecuredLines        0\n",
            "age                                         0\n",
            "NumberOfTime30-59DaysPastDueNotWorse        0\n",
            "DebtRatio                                   0\n",
            "MonthlyIncome                           29731\n",
            "NumberOfOpenCreditLinesAndLoans             0\n",
            "NumberOfTimes90DaysLate                     0\n",
            "NumberRealEstateLoansOrLines                0\n",
            "NumberOfTime60-89DaysPastDueNotWorse        0\n",
            "NumberOfDependents                       3924\n",
            "dtype: int64\n"
          ]
        }
      ]
    },
    {
      "cell_type": "code",
      "source": [
        "# If needed, install imbalanced-learn\n",
        "!pip install -U imbalanced-learn\n"
      ],
      "metadata": {
        "colab": {
          "base_uri": "https://localhost:8080/"
        },
        "id": "UBPDsnpXVeV0",
        "outputId": "772c6dd8-8eef-4160-aa57-be253e88ea75"
      },
      "execution_count": null,
      "outputs": [
        {
          "output_type": "stream",
          "name": "stdout",
          "text": [
            "Requirement already satisfied: imbalanced-learn in /usr/local/lib/python3.10/dist-packages (0.10.1)\n",
            "Collecting imbalanced-learn\n",
            "  Downloading imbalanced_learn-0.12.2-py3-none-any.whl (257 kB)\n",
            "\u001b[2K     \u001b[90m━━━━━━━━━━━━━━━━━━━━━━━━━━━━━━━━━━━━━━━━\u001b[0m \u001b[32m258.0/258.0 kB\u001b[0m \u001b[31m5.4 MB/s\u001b[0m eta \u001b[36m0:00:00\u001b[0m\n",
            "\u001b[?25hRequirement already satisfied: numpy>=1.17.3 in /usr/local/lib/python3.10/dist-packages (from imbalanced-learn) (1.25.2)\n",
            "Requirement already satisfied: scipy>=1.5.0 in /usr/local/lib/python3.10/dist-packages (from imbalanced-learn) (1.11.4)\n",
            "Requirement already satisfied: scikit-learn>=1.0.2 in /usr/local/lib/python3.10/dist-packages (from imbalanced-learn) (1.2.2)\n",
            "Requirement already satisfied: joblib>=1.1.1 in /usr/local/lib/python3.10/dist-packages (from imbalanced-learn) (1.4.0)\n",
            "Requirement already satisfied: threadpoolctl>=2.0.0 in /usr/local/lib/python3.10/dist-packages (from imbalanced-learn) (3.4.0)\n",
            "Installing collected packages: imbalanced-learn\n",
            "  Attempting uninstall: imbalanced-learn\n",
            "    Found existing installation: imbalanced-learn 0.10.1\n",
            "    Uninstalling imbalanced-learn-0.10.1:\n",
            "      Successfully uninstalled imbalanced-learn-0.10.1\n",
            "Successfully installed imbalanced-learn-0.12.2\n"
          ]
        }
      ]
    },
    {
      "cell_type": "code",
      "source": [
        "import pandas as pd\n",
        "from sklearn.impute import SimpleImputer\n",
        "\n",
        "from sklearn.model_selection import train_test_split\n",
        "\n",
        "# Load data\n",
        "data_df = pd.read_csv('cs-training.csv')\n",
        "\n",
        "# Drop 'Unnamed: 0' if necessary\n",
        "data_df.drop(columns='Unnamed: 0', inplace=True)\n",
        "\n",
        "# Separate features and target\n",
        "X = data_df.drop(columns='SeriousDlqin2yrs')\n",
        "y = data_df['SeriousDlqin2yrs']\n",
        "\n",
        "# Split data into train and test sets (80-20 split)\n",
        "X_train, X_test, y_train, y_test = train_test_split(X, y, test_size=0.2, random_state=42)\n",
        "\n",
        "print(y_train.value_counts()[1]/X_train.shape[0])\n",
        "print(y_test.value_counts()[1]/X_test.shape[0])\n",
        "\n",
        "\n",
        "# train info\n",
        "print('Train data shape:', X_train.shape)\n",
        "print('Train data labels, label count:', np.unique(y_train, return_counts=True))\n",
        "print()\n",
        "\n",
        "# test info\n",
        "print('Test data shape:', X_test.shape)\n",
        "print('Test data labels, label count:', np.unique(y_test, return_counts=True))\n",
        "print()\n",
        "\n"
      ],
      "metadata": {
        "colab": {
          "base_uri": "https://localhost:8080/"
        },
        "id": "TpPTaXwuLKbt",
        "outputId": "cbae0792-adaf-4a08-b5ed-5fd4da792ad1"
      },
      "execution_count": null,
      "outputs": [
        {
          "output_type": "stream",
          "name": "stdout",
          "text": [
            "0.06725\n",
            "0.0652\n",
            "Train data shape: (120000, 10)\n",
            "Train data labels, label count: (array([0, 1]), array([111930,   8070]))\n",
            "\n",
            "Test data shape: (30000, 10)\n",
            "Test data labels, label count: (array([0, 1]), array([28044,  1956]))\n",
            "\n"
          ]
        }
      ]
    },
    {
      "cell_type": "code",
      "source": [
        "# Deal with Missing Vals\n",
        "from sklearn.impute import SimpleImputer\n",
        "\n",
        "# Impute 'MonthlyIncome' with the median\n",
        "income_imputer = SimpleImputer(strategy='median')\n",
        "X_train['MonthlyIncome'] = income_imputer.fit_transform(X_train[['MonthlyIncome']])\n",
        "\n",
        "# Impute 'NumberOfDependents' with the mode (most frequent value)\n",
        "dependents_imputer = SimpleImputer(strategy='most_frequent')\n",
        "X_train['NumberOfDependents'] = dependents_imputer.fit_transform(X_train[['NumberOfDependents']])\n",
        "\n",
        "# Apply the same imputation to the test set\n",
        "X_test['MonthlyIncome'] = income_imputer.transform(X_test[['MonthlyIncome']])\n",
        "X_test['NumberOfDependents'] = dependents_imputer.transform(X_test[['NumberOfDependents']])\n",
        "\n",
        "# Check for missing values in the training data\n",
        "print(\"\\nMissing Values in Training Data:\")\n",
        "print(X_train.isnull().sum())\n",
        "\n",
        "# Check for missing values in the test data\n",
        "print(\"\\nMissing Values in Training Data:\")\n",
        "print(X_test.isnull().sum())\n",
        "\n"
      ],
      "metadata": {
        "id": "PRnMhZ-zWGwT",
        "colab": {
          "base_uri": "https://localhost:8080/"
        },
        "outputId": "d43c89f4-a863-4a89-8949-f818b3ba0682"
      },
      "execution_count": null,
      "outputs": [
        {
          "output_type": "stream",
          "name": "stdout",
          "text": [
            "\n",
            "Missing Values in Training Data:\n",
            "RevolvingUtilizationOfUnsecuredLines    0\n",
            "age                                     0\n",
            "NumberOfTime30-59DaysPastDueNotWorse    0\n",
            "DebtRatio                               0\n",
            "MonthlyIncome                           0\n",
            "NumberOfOpenCreditLinesAndLoans         0\n",
            "NumberOfTimes90DaysLate                 0\n",
            "NumberRealEstateLoansOrLines            0\n",
            "NumberOfTime60-89DaysPastDueNotWorse    0\n",
            "NumberOfDependents                      0\n",
            "dtype: int64\n",
            "\n",
            "Missing Values in Training Data:\n",
            "RevolvingUtilizationOfUnsecuredLines    0\n",
            "age                                     0\n",
            "NumberOfTime30-59DaysPastDueNotWorse    0\n",
            "DebtRatio                               0\n",
            "MonthlyIncome                           0\n",
            "NumberOfOpenCreditLinesAndLoans         0\n",
            "NumberOfTimes90DaysLate                 0\n",
            "NumberRealEstateLoansOrLines            0\n",
            "NumberOfTime60-89DaysPastDueNotWorse    0\n",
            "NumberOfDependents                      0\n",
            "dtype: int64\n"
          ]
        }
      ]
    },
    {
      "cell_type": "code",
      "source": [
        "from imblearn.over_sampling import SMOTE\n",
        "\n",
        "# before SMOTE\n",
        "print(y_train.value_counts()[1] / X_train.shape[0])\n",
        "\n",
        "# Initialize SMOTE\n",
        "smote = SMOTE(random_state=42)\n",
        "\n",
        "# Apply SMOTE to the training data\n",
        "X_train_resampled, y_train_resampled = smote.fit_resample(X_train, y_train)\n",
        "\n",
        "\n",
        "# Verify the new class distribution\n",
        "print('Train data shape after SMOTE:', X_train_resampled.shape)\n",
        "print('Train data labels after SMOTE, label count:', np.unique(y_train_resampled, return_counts=True))\n",
        "\n",
        "# after SMOTE\n",
        "print(y_train_resampled.value_counts()[1]/X_train_resampled.shape[0])\n",
        "\n",
        "\n",
        "\n"
      ],
      "metadata": {
        "colab": {
          "base_uri": "https://localhost:8080/"
        },
        "id": "y3dn8DN2Vlsj",
        "outputId": "39349917-e5d8-4dd5-e948-6cf50378fbab"
      },
      "execution_count": null,
      "outputs": [
        {
          "output_type": "stream",
          "name": "stdout",
          "text": [
            "0.06725\n",
            "Train data shape after SMOTE: (223860, 10)\n",
            "Train data labels after SMOTE, label count: (array([0, 1]), array([111930, 111930]))\n",
            "0.5\n"
          ]
        }
      ]
    },
    {
      "cell_type": "code",
      "source": [
        "# PCA Check\n",
        "import pandas as pd\n",
        "from sklearn.preprocessing import StandardScaler\n",
        "from sklearn.decomposition import PCA\n",
        "import matplotlib.pyplot as plt\n",
        "\n",
        "# Standardize the resampled training data\n",
        "scaler = StandardScaler()\n",
        "X_train_resampled_standardized = scaler.fit_transform(X_train_resampled)\n",
        "X_test_resampled_standardized = scaler.transform(X_test)\n",
        "\n",
        "# Apply PCA\n",
        "pca = PCA()\n",
        "pca.fit(X_train_resampled_standardized)\n",
        "\n",
        "# Get the cumulative explained variance\n",
        "cumulative_explained_variance = pca.explained_variance_ratio_.cumsum()\n",
        "\n",
        "# Print the cumulative explained variance\n",
        "print(\"Cumulative Explained Variance:\", cumulative_explained_variance)\n",
        "\n",
        "# Plot the cumulative explained variance\n",
        "plt.figure(figsize=(8, 6))\n",
        "plt.plot(cumulative_explained_variance, marker='o')\n",
        "plt.xlabel('Number of Principal Components')\n",
        "plt.ylabel('Cumulative Explained Variance')\n",
        "plt.title('PCA Cumulative Explained Variance - Training Data (Resampled)')\n",
        "plt.grid(True)\n",
        "plt.show()\n"
      ],
      "metadata": {
        "colab": {
          "base_uri": "https://localhost:8080/",
          "height": 599
        },
        "id": "RV53DnlDXjGv",
        "outputId": "b0ef04f8-64cf-4055-9676-9ef8bdaceeee"
      },
      "execution_count": null,
      "outputs": [
        {
          "output_type": "stream",
          "name": "stdout",
          "text": [
            "Cumulative Explained Variance: [0.30547614 0.46780693 0.58797384 0.6887143  0.78877704 0.87830108\n",
            " 0.94906308 0.99886648 0.99964287 1.        ]\n"
          ]
        },
        {
          "output_type": "display_data",
          "data": {
            "text/plain": [
              "<Figure size 800x600 with 1 Axes>"
            ],
            "image/png": "[encoded data removed]"
          },
          "metadata": {}
        }
      ]
    },
    {
      "cell_type": "code",
      "source": [
        "import numpy as np\n",
        "import pandas as pd\n",
        "from sklearn.linear_model import LogisticRegression\n",
        "from sklearn.metrics import classification_report, roc_auc_score, roc_curve\n",
        "from sklearn.preprocessing import StandardScaler\n",
        "import matplotlib.pyplot as plt\n",
        "from sklearn.model_selection import learning_curve\n",
        "from sklearn.metrics import precision_score\n",
        "from sklearn.metrics import recall_score\n",
        "from sklearn.metrics import fbeta_score\n",
        "\n",
        "# Ensure data is standardized\n",
        "scaler = StandardScaler()\n",
        "X_train_scaled = scaler.fit_transform(X_train_resampled)  # Fit and transform training data\n",
        "X_test_scaled = scaler.transform(X_test)  # Transform test data\n",
        "\n",
        "# Create a Logistic Regression model\n",
        "model = LogisticRegression(class_weight='balanced', random_state=42)  # 'balanced' to address any remaining imbalance\n",
        "\n",
        "# Train the model on the balanced training data\n",
        "model.fit(X_train_scaled, y_train_resampled)\n",
        "\n",
        "# Make predictions on the test data\n",
        "y_pred = model.predict(X_test_scaled)\n",
        "\n",
        "# Evaluate the model's performance\n",
        "auc = roc_auc_score(y_test, y_pred)\n",
        "p_lr = precision_score(y_test, y_pred, average='weighted')\n",
        "r_lr = recall_score(y_test, y_pred, average='weighted')\n",
        "f1_lr = fbeta_score(y_test, y_pred, beta=1.0, average='weighted')\n",
        "\n",
        "\n",
        "# Display metrics\n",
        "print('Precision:', p_lr)\n",
        "print('Recall:', r_lr)\n",
        "print('F1-score:', f1_lr)\n",
        "print('AUC score:', auc)\n",
        "\n"
      ],
      "metadata": {
        "colab": {
          "base_uri": "https://localhost:8080/"
        },
        "id": "9g92q8o4c9Sy",
        "outputId": "efd86de5-8fdc-402b-dc59-8799683e5044"
      },
      "execution_count": null,
      "outputs": [
        {
          "output_type": "stream",
          "name": "stdout",
          "text": [
            "Precision: 0.9067818916275341\n",
            "Recall: 0.6704\n",
            "F1-score: 0.7538060324496375\n",
            "AUC score: 0.6455974529070444\n"
          ]
        }
      ]
    },
    {
      "cell_type": "code",
      "source": [
        "from sklearn.neighbors import KNeighborsClassifier\n",
        "from sklearn.metrics import precision_score\n",
        "from sklearn.metrics import recall_score\n",
        "from sklearn.metrics import fbeta_score\n",
        "from sklearn.metrics import confusion_matrix, ConfusionMatrixDisplay\n",
        "from sklearn.metrics import balanced_accuracy_score\n",
        "\n",
        "\n",
        "# Algorithims\n",
        "brute = 'brute'\n",
        "ball = 'ball_tee'\n",
        "kd = 'kd_tree'\n",
        "\n",
        "# Metrics\n",
        "man = 'manhattan'\n",
        "min = 'minkowski'\n",
        "\n",
        "\n",
        "# KNN classifier configuration\n",
        "knn = KNeighborsClassifier(n_neighbors=15, metric=min, p=2, algorithm=brute)\n",
        "\n",
        "\n",
        "# Train the KNN classifier\n",
        "knn.fit(X_train_scaled, y_train_resampled)\n",
        "\n",
        "# Predict with KNN on the test data\n",
        "predictions_knn = knn.predict(X_test_scaled)\n",
        "\n",
        "# Evaluation metrics\n",
        "\n",
        "bacc_knn = balanced_accuracy_score(y_test, predictions_knn)\n",
        "p_knn = precision_score(y_test, predictions_knn, average='weighted')\n",
        "r_knn = recall_score(y_test, predictions_knn, average='weighted')\n",
        "f1_knn = fbeta_score(y_test, predictions_knn, beta=1.0, average='weighted')\n",
        "\n",
        "roc_auc = roc_auc_score(y_test, predictions_knn)\n",
        "\n",
        "# Display metrics\n",
        "print('Precision:', p_knn)\n",
        "print('Recall:', r_knn)\n",
        "print('F1-score:', f1_knn)\n",
        "print('AUC score:', roc_auc)\n",
        "\n",
        "# Display the confusion matrix\n",
        "\n",
        "cm_knn = confusion_matrix(y_test, predictions_knn, labels=knn.classes_)\n",
        "disp_knn = ConfusionMatrixDisplay(confusion_matrix=cm_knn, display_labels=knn.classes_)\n",
        "\n",
        "disp_knn.plot()\n",
        "plt.title('Confusion Matrix for KNN')\n",
        "plt.show()\n"
      ],
      "metadata": {
        "colab": {
          "base_uri": "https://localhost:8080/",
          "height": 541
        },
        "id": "Hc_8aau_--8H",
        "outputId": "9888d902-aad1-4b18-9bdb-bcceeb091f23"
      },
      "execution_count": null,
      "outputs": [
        {
          "output_type": "stream",
          "name": "stdout",
          "text": [
            "Precision: 0.90614167889564\n",
            "Recall: 0.8258333333333333\n",
            "F1-score: 0.8591495934912204\n",
            "AUC score: 0.6521648058747297\n"
          ]
        },
        {
          "output_type": "display_data",
          "data": {
            "text/plain": [
              "<Figure size 640x480 with 2 Axes>"
            ],
            "image/png": "[encoded data removed]"
          },
          "metadata": {}
        }
      ]
    },
    {
      "cell_type": "code",
      "source": [
        "from sklearn.model_selection import RandomizedSearchCV\n",
        "from sklearn.metrics import roc_auc_score\n",
        "\n",
        "clf = RandomForestClassifier(random_state=42)  # Added random_state for reproducibility\n",
        "# Use a full grid over all parameters\n",
        "param_grid = {\n",
        "    \"n_estimators\": [50, 100, 150],\n",
        "    \"max_depth\": [3, None],\n",
        "    \"max_features\": [1, 3, 10],\n",
        "    \"min_samples_split\": [2, 3, 10]\n",
        "}\n",
        "\n",
        "# Run grid search\n",
        "grid = RandomizedSearchCV(clf, param_grid, cv=5, scoring=\"roc_auc\", n_iter=10, random_state=42)\n",
        "grid.fit(X_train_scaled, y_train_resampled)\n",
        "print(\"Grid-Search with roc_auc\")\n",
        "print(\"Best parameters:\", grid.best_params_)\n",
        "print(\"Best cross-validation score (auc_roc): {:.3f}\".format(grid.best_score_))\n",
        "\n",
        "# Predict probabilities for test set and calculate AUC\n",
        "y_pred_proba = grid.predict_proba(X_test_scaled)[:, 1]\n",
        "test_auc = roc_auc_score(y_test, y_pred_proba)\n",
        "print(\"Test set AUC: {:.3f}\".format(test_auc))\n",
        "\n"
      ],
      "metadata": {
        "colab": {
          "base_uri": "https://localhost:8080/"
        },
        "id": "hJuBzHNCfBC2",
        "outputId": "3c4c30ef-d195-4612-b985-f900535b0331"
      },
      "execution_count": null,
      "outputs": [
        {
          "output_type": "stream",
          "name": "stdout",
          "text": [
            "Grid-Search with roc_auc\n",
            "Best parameters: {'n_estimators': 100, 'min_samples_split': 3, 'max_features': 10, 'max_depth': None}\n",
            "Best cross-validation score (auc_roc): 0.970\n",
            "Test set AUC: 0.805\n"
          ]
        }
      ]
    },
    {
      "cell_type": "code",
      "source": [
        "y_pred = (y_pred_proba > 0.5).astype(int)\n",
        "\n",
        "p = precision_score(y_test, y_pred, average='weighted')\n",
        "r = recall_score(y_test, y_pred, average='weighted')\n",
        "f1 = fbeta_score(y_test, y_pred, beta=1.0, average='weighted')\n",
        "\n",
        "print('Precision:', p)\n",
        "print('Recall:', r)\n",
        "print('F1-score:', f1)"
      ],
      "metadata": {
        "colab": {
          "base_uri": "https://localhost:8080/"
        },
        "id": "uHGiPb3qBgAh",
        "outputId": "300c76d8-13e0-44b6-d063-c55f45a2bde5"
      },
      "execution_count": null,
      "outputs": [
        {
          "output_type": "stream",
          "name": "stdout",
          "text": [
            "Precision: 0.9118246898692132\n",
            "Recall: 0.89\n",
            "F1-score: 0.8998151508614107\n"
          ]
        }
      ]
    }
  ]
}